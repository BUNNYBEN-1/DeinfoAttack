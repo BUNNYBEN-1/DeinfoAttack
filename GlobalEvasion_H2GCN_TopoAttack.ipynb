{
 "cells": [
  {
   "cell_type": "code",
   "execution_count": 1,
   "metadata": {},
   "outputs": [
    {
     "name": "stderr",
     "output_type": "stream",
     "text": [
      "Using backend: pytorch\n"
     ]
    }
   ],
   "source": [
    "# 全局攻击 数据集：异配图数据集；代理模型：GCN；攻击算法：TopoAttack：Min-Max、PGD\n",
    "import torch\n",
    "import torch.nn as nn\n",
    "import numpy as np\n",
    "import torch.nn.functional as F\n",
    "import torch_geometric.transforms as T\n",
    "import torch.optim as optim\n",
    "import scipy.sparse as sp\n",
    "from copy import deepcopy\n",
    "from torch_geometric.utils import to_undirected\n",
    "from torch_sparse import SparseTensor\n",
    "from tqdm import tqdm\n",
    "import time\n",
    "\n",
    "from utils import *\n",
    "from gcn import GCN\n",
    "from H2GCN import H2GCN\n",
    "from topology_attack import MinMax"
   ]
  },
  {
   "cell_type": "code",
   "execution_count": 2,
   "metadata": {},
   "outputs": [],
   "source": [
    "# 模拟命令行参数\n",
    "class Args:\n",
    "    def __init__(self, dataset='cora', model='min-max'):\n",
    "        self.seed = 15\n",
    "        self.dataset = dataset\n",
    "        self.input_size = 0\n",
    "        self.output_size = 0\n",
    "        self.hidden_size = 64\n",
    "        self.epochs = 2000\n",
    "        self.lr = 0.001\n",
    "        self.drop_prob = 0.5\n",
    "        self.round = 2\n",
    "        self.train_ratio = 0.6\n",
    "        self.ptb_rate = 0.05\n",
    "        self.patience = 200\n",
    "        self.model = model\n",
    "\n",
    "# 传入特定的参数值\n",
    "args = Args(dataset='cora', model='min-max') \n",
    "# 默认dataset为'cora'，可以传入的dataset参数有：choices=['cora', 'citeseer', 'pubmed', 'film', 'squirrel', 'chameleon', 'texas', 'cornell', 'wisconsin']\n",
    "# model默认'min-max'，可选['PGD', 'min-max']"
   ]
  },
  {
   "cell_type": "code",
   "execution_count": 3,
   "metadata": {},
   "outputs": [
    {
     "name": "stdout",
     "output_type": "stream",
     "text": [
      "cuda: True\n"
     ]
    }
   ],
   "source": [
    "# 是否使用cuda\n",
    "args.cuda = torch.cuda.is_available()\n",
    "print('cuda: %s' % args.cuda)\n",
    "device = torch.device(\"cuda:0\" if torch.cuda.is_available() else \"cpu\")\n",
    "\n",
    "np.random.seed(args.seed)\n",
    "torch.manual_seed(args.seed)\n",
    "if args.cuda:\n",
    "    torch.cuda.manual_seed(args.seed)"
   ]
  },
  {
   "cell_type": "code",
   "execution_count": 4,
   "metadata": {},
   "outputs": [
    {
     "name": "stdout",
     "output_type": "stream",
     "text": [
      "cora 7\n"
     ]
    }
   ],
   "source": [
    "# 加载数据集\n",
    "g, nclass, features, labels, train, val, test = preprocess_data(args.dataset, args.train_ratio)\n",
    "\n",
    "idx_train = train.numpy()\n",
    "idx_test = test.numpy()\n",
    "idx_val = val.numpy()\n",
    "\n",
    "train = train.to(device)\n",
    "test = test.to(device)\n",
    "val = val.to(device)"
   ]
  },
  {
   "cell_type": "code",
   "execution_count": 5,
   "metadata": {},
   "outputs": [],
   "source": [
    "# 得到adj和adj_2hop\n",
    "def toCSR(spt):\n",
    "    rowptr, col, value = spt.csr()\n",
    "    mat = sp.csr_matrix((value, col, rowptr)).tolil()\n",
    "    mat.setdiag(0)\n",
    "    return mat.tocsr()\n",
    "\n",
    "edge_index = to_undirected(g.edges())\n",
    "adj = SparseTensor(row=edge_index[0], col=edge_index[1],\n",
    "                   sparse_sizes=(g.num_nodes(), g.num_nodes())).fill_value(1.0)\n",
    "adj2 = adj.matmul(adj).fill_value(1.0)\n",
    "adj_2hop = (toCSR(adj2) - toCSR(adj)) > 0\n",
    "adj_2hop = SparseTensor.from_scipy(adj_2hop).fill_value(1.0)\n",
    "\n",
    "adj = adj.to(device)\n",
    "adj_clean0 = adj\n",
    "adj_2hop = adj_2hop.to(device)"
   ]
  },
  {
   "cell_type": "code",
   "execution_count": 6,
   "metadata": {},
   "outputs": [],
   "source": [
    "# 得到目标节点的一跳和两跳邻居节点\n",
    "# target_nodes = np.random.randint(15, labels.numel(), size=20)\n",
    "dense_adj = adj.to_dense().cpu().numpy()\n",
    "dense_adj_2hop = adj_2hop.to_dense().cpu().numpy()"
   ]
  },
  {
   "cell_type": "code",
   "execution_count": 7,
   "metadata": {},
   "outputs": [],
   "source": [
    "def train_model(model, adj, adj_2hop, optimizer, loss_fn):\n",
    "    model.train()\n",
    "    logits = model(features, adj, adj_2hop)\n",
    "    pred = logits.argmax(dim=-1)\n",
    "    train_loss = loss_fn(logits[train], labels[train])\n",
    "    train_acc = (pred[train] == labels[train]).float().mean()\n",
    "    optimizer.zero_grad()\n",
    "    train_loss.backward()\n",
    "    optimizer.step()\n",
    "\n",
    "    return train_loss, train_acc\n",
    "\n",
    "def evaluate_val(model, adj, adj_2hop):\n",
    "    model.eval()\n",
    "    with torch.no_grad():\n",
    "        logits = model(features, adj, adj_2hop)\n",
    "    pred = logits.argmax(dim=-1)\n",
    "    val_acc = (pred[val] == labels[val]).float().mean()\n",
    "    return val_acc\n",
    "\n",
    "def evaluate_test(model, adj, adj_2hop):\n",
    "    model.eval()\n",
    "    with torch.no_grad():\n",
    "        logits = model(features, adj, adj_2hop)\n",
    "    pred = logits.argmax(dim=-1)\n",
    "    test_acc = (pred[test] == labels[test]).float().mean()\n",
    "    return test_acc"
   ]
  },
  {
   "cell_type": "code",
   "execution_count": 8,
   "metadata": {},
   "outputs": [],
   "source": [
    "features_cpu = features\n",
    "labels_cpu = labels\n",
    "features = features.to(device)\n",
    "labels = labels.to(device)"
   ]
  },
  {
   "cell_type": "code",
   "execution_count": 9,
   "metadata": {},
   "outputs": [],
   "source": [
    "# H2GCN模型初始化\n",
    "# 使用torch.unique()函数找到张量中的唯一值\n",
    "unique_classes = torch.unique(labels)\n",
    "# 统计唯一值的数量，即类别数\n",
    "num_classes = len(unique_classes)\n",
    "# 模型参数设置\n",
    "args.input_size = len(features[0])\n",
    "args.output_size = num_classes\n",
    "\n",
    "model = H2GCN(in_channels=args.input_size,\n",
    "                hidden_channels=args.hidden_size,\n",
    "                out_channels=args.output_size,\n",
    "                drop_prob=args.drop_prob,\n",
    "                round=args.round)\n",
    "\n",
    "model = model.to(device)"
   ]
  },
  {
   "cell_type": "code",
   "execution_count": 10,
   "metadata": {},
   "outputs": [
    {
     "name": "stdout",
     "output_type": "stream",
     "text": [
      "ep200: train loss: 0.5659 train acc: 0.8714 val acc: 0.7060\n",
      "ep400: train loss: 0.2643 train acc: 0.9500 val acc: 0.7060\n",
      "ep600: train loss: 0.1075 train acc: 1.0000 val acc: 0.7100\n",
      "ep800: train loss: 0.0877 train acc: 0.9929 val acc: 0.7100\n",
      "ep1000: train loss: 0.0362 train acc: 1.0000 val acc: 0.7140\n",
      "ep1200: train loss: 0.0220 train acc: 1.0000 val acc: 0.7260\n",
      "ep1400: train loss: 0.0296 train acc: 0.9929 val acc: 0.7160\n",
      "ep1600: train loss: 0.0192 train acc: 0.9929 val acc: 0.7200\n",
      "ep1800: train loss: 0.0777 train acc: 0.9929 val acc: 0.7260\n",
      "ep2000: train loss: 0.0068 train acc: 1.0000 val acc: 0.7160\n",
      "test acc: 0.7420\n"
     ]
    }
   ],
   "source": [
    "optimizer = optim.Adam(params=model.parameters(), lr=args.lr)\n",
    "loss_fn = nn.NLLLoss()\n",
    "\n",
    "best_val_acc, best_model = 0., None\n",
    "for i in range(args.epochs):\n",
    "    train_loss, train_acc = train_model(model, adj, adj_2hop, optimizer, loss_fn)\n",
    "    val_acc = evaluate_val(model, adj, adj_2hop)\n",
    "    if (i + 1) % 200 == 0:\n",
    "        print(\"ep{}: train loss: {:.4f} train acc: {:.4f} val acc: {:.4f}\".format(i + 1, train_loss, train_acc, val_acc))\n",
    "\n",
    "    if best_val_acc < val_acc:\n",
    "        best_val_acc = val_acc\n",
    "        best_model = deepcopy(model)\n",
    "\n",
    "test_acc = evaluate_test(best_model, adj, adj_2hop)\n",
    "print(\"test acc: {:.4f}\".format(test_acc))"
   ]
  },
  {
   "cell_type": "code",
   "execution_count": 11,
   "metadata": {},
   "outputs": [],
   "source": [
    "def trans1(features):\n",
    "    # 转features数据格式\n",
    "    # 获取非零元素的索引和对应的值\n",
    "    indices = torch.nonzero(features).t()\n",
    "    values = features[indices[0], indices[1]]\n",
    "    # 构建CSR格式的三个数组\n",
    "    row_ptr = torch.tensor([0] + torch.cumsum(torch.bincount(indices[0]), dim=0).tolist(), dtype=torch.int64)\n",
    "    col_indices = indices[1]\n",
    "    data = values\n",
    "    # 创建CSR格式的稀疏矩阵\n",
    "    features = sp.csr_matrix((data.cpu().numpy(), col_indices.cpu().numpy(), row_ptr.cpu().numpy()), shape=features.shape)\n",
    "   \n",
    "    return features\n",
    "\n",
    "def trans2(features):\n",
    "    # 将 CSR 格式的稀疏矩阵转换成 PyTorch 稀疏张量\n",
    "    coo_matrix = features.tocoo()\n",
    "    indices = torch.tensor([coo_matrix.row, coo_matrix.col], dtype=torch.long)\n",
    "    values = torch.tensor(coo_matrix.data, dtype=torch.float32)\n",
    "    size = coo_matrix.shape\n",
    "\n",
    "    # 创建 PyTorch 稀疏张量\n",
    "    sparse_tensor = torch.sparse_coo_tensor(indices, values, size=size)\n",
    "\n",
    "    return sparse_tensor"
   ]
  },
  {
   "cell_type": "code",
   "execution_count": 12,
   "metadata": {},
   "outputs": [],
   "source": [
    "# 转换为adj_clean（CSR matrix），原图adj为Tensor\n",
    "adj_clean = g.adjacency_matrix(transpose=True, scipy_fmt=\"csr\")\n",
    "adj_clean = adj_clean.astype(np.float32)\n",
    "adj_sparse = trans2(adj_clean)\n",
    "adj = adj_sparse.to_dense()\n",
    "adj_cpu = adj"
   ]
  },
  {
   "cell_type": "code",
   "execution_count": 13,
   "metadata": {},
   "outputs": [],
   "source": [
    "# 设置代理模型GCN\n",
    "victim_model = GCN(nfeat=features.shape[1], nclass=labels.max().item()+1, nhid=16,\n",
    "        dropout=0.5, weight_decay=5e-4, device=device)\n",
    "\n",
    "victim_model = victim_model.to(device)\n",
    "victim_model.fit(features, adj, labels, idx_train)"
   ]
  },
  {
   "cell_type": "code",
   "execution_count": 14,
   "metadata": {},
   "outputs": [],
   "source": [
    "# 设置攻击模型\n",
    "model = MinMax(model=victim_model, nnodes=adj.shape[0], loss_type='CE', device=device)\n",
    "\n",
    "model = model.to(device)"
   ]
  },
  {
   "cell_type": "code",
   "execution_count": 15,
   "metadata": {},
   "outputs": [],
   "source": [
    "start_time = time.time()  # 获取开始时间"
   ]
  },
  {
   "cell_type": "code",
   "execution_count": 16,
   "metadata": {},
   "outputs": [
    {
     "name": "stderr",
     "output_type": "stream",
     "text": [
      "  0%|          | 0/200 [00:00<?, ?it/s]"
     ]
    },
    {
     "name": "stderr",
     "output_type": "stream",
     "text": [
      "100%|██████████| 200/200 [00:29<00:00,  6.84it/s]\n"
     ]
    }
   ],
   "source": [
    "# 扰动的边数\n",
    "perturbations = int(g.num_edges() * args.ptb_rate)\n",
    "\n",
    "# 进行攻击\n",
    "model.attack(features_cpu, adj, labels_cpu, idx_train, perturbations)\n",
    "modified_adj = model.modified_adj\n",
    "modified_adj = modified_adj.to('cpu')"
   ]
  },
  {
   "cell_type": "code",
   "execution_count": 17,
   "metadata": {},
   "outputs": [],
   "source": [
    "# 将PyTorch张量转换为CSR格式\n",
    "sparse_matrix = sp.csr_matrix(modified_adj.numpy())\n",
    "modified_g = dgl.from_scipy(sparse_matrix)\n",
    "modified_edge_index = to_undirected(modified_g.edges())\n",
    "adj_attacked = SparseTensor(row=modified_edge_index[0], col=modified_edge_index[1],\n",
    "                   sparse_sizes=(modified_g.num_nodes(), modified_g.num_nodes())).fill_value(1.0)\n",
    "adj2_attacked = adj_attacked.matmul(adj_attacked).fill_value(1.0)\n",
    "adj_attacked_2hop = (toCSR(adj2_attacked) - toCSR(adj_attacked)) > 0\n",
    "adj_attacked_2hop = SparseTensor.from_scipy(adj_attacked_2hop).fill_value(1.0)\n",
    "\n",
    "adj_attacked = adj_attacked.to(device)\n",
    "adj_attacked_2hop = adj_attacked_2hop.to(device)"
   ]
  },
  {
   "cell_type": "code",
   "execution_count": 18,
   "metadata": {},
   "outputs": [
    {
     "name": "stdout",
     "output_type": "stream",
     "text": [
      "test acc: 0.6940\n"
     ]
    }
   ],
   "source": [
    "# 逃逸攻击\n",
    "test_acc = evaluate_test(best_model, adj_attacked, adj_attacked)\n",
    "print(\"test acc: {:.4f}\".format(test_acc))"
   ]
  },
  {
   "cell_type": "code",
   "execution_count": 19,
   "metadata": {},
   "outputs": [
    {
     "name": "stdout",
     "output_type": "stream",
     "text": [
      "Elapsed time: 31.74736738204956 seconds\n"
     ]
    }
   ],
   "source": [
    "end_time = time.time()  # 获取结束时间\n",
    "elapsed_time = end_time - start_time  # 计算经过的时间\n",
    "print(f\"Elapsed time: {elapsed_time} seconds\")"
   ]
  }
 ],
 "metadata": {
  "kernelspec": {
   "display_name": "DeepRobust",
   "language": "python",
   "name": "python3"
  },
  "language_info": {
   "codemirror_mode": {
    "name": "ipython",
    "version": 3
   },
   "file_extension": ".py",
   "mimetype": "text/x-python",
   "name": "python",
   "nbconvert_exporter": "python",
   "pygments_lexer": "ipython3",
   "version": "3.7.12"
  }
 },
 "nbformat": 4,
 "nbformat_minor": 2
}
