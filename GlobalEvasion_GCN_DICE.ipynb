{
 "cells": [
  {
   "cell_type": "code",
   "execution_count": 1,
   "metadata": {},
   "outputs": [
    {
     "name": "stderr",
     "output_type": "stream",
     "text": [
      "Using backend: pytorch\n"
     ]
    }
   ],
   "source": [
    "# 全局攻击 逃逸攻击 数据集：异配图数据集；代理模型：GCN；攻击算法：DICE\n",
    "import torch\n",
    "import torch.nn as nn\n",
    "import numpy as np\n",
    "import torch.nn.functional as F\n",
    "import torch_geometric.transforms as T\n",
    "import torch.optim as optim\n",
    "import scipy.sparse as sp\n",
    "from copy import deepcopy\n",
    "from torch_geometric.utils import to_undirected\n",
    "from torch_sparse import SparseTensor\n",
    "from tqdm import tqdm\n",
    "\n",
    "from utils import *\n",
    "from H2GCN import H2GCN\n",
    "from gcn import GCN\n",
    "from DICE import DICE"
   ]
  },
  {
   "cell_type": "code",
   "execution_count": 2,
   "metadata": {},
   "outputs": [],
   "source": [
    "# 模拟命令行参数\n",
    "class Args:\n",
    "    def __init__(self, dataset='cora'):\n",
    "        self.seed = 15\n",
    "        self.dataset = dataset\n",
    "        self.input_size = 0\n",
    "        self.output_size = 0\n",
    "        self.hidden_size = 64\n",
    "        self.epochs = 2000\n",
    "        self.lr = 0.001\n",
    "        self.drop_prob = 0.5\n",
    "        self.round = 2\n",
    "        self.train_ratio = 0.6\n",
    "        self.patience = 200\n",
    "\n",
    "# 传入特定的参数值\n",
    "args = Args(dataset='citeseer') \n",
    "# 默认dataset为'cora'，可以传入的dataset参数有：choices=['cora', 'citeseer', 'pubmed', 'film', 'squirrel', 'chameleon', 'texas', 'cornell', 'wisconsin']"
   ]
  },
  {
   "cell_type": "code",
   "execution_count": 3,
   "metadata": {},
   "outputs": [
    {
     "name": "stdout",
     "output_type": "stream",
     "text": [
      "cuda: True\n"
     ]
    }
   ],
   "source": [
    "# 是否使用cuda\n",
    "args.cuda = torch.cuda.is_available()\n",
    "print('cuda: %s' % args.cuda)\n",
    "device = torch.device(\"cuda:0\" if torch.cuda.is_available() else \"cpu\")\n",
    "\n",
    "np.random.seed(args.seed)\n",
    "torch.manual_seed(args.seed)\n",
    "if args.cuda:\n",
    "    torch.cuda.manual_seed(args.seed)"
   ]
  },
  {
   "cell_type": "code",
   "execution_count": 4,
   "metadata": {},
   "outputs": [
    {
     "name": "stdout",
     "output_type": "stream",
     "text": [
      "citeseer 6\n"
     ]
    },
    {
     "name": "stderr",
     "output_type": "stream",
     "text": [
      "/home/wangyajing/experiment/utils.py:220: RuntimeWarning: divide by zero encountered in power\n",
      "  r_inv = np.power(rowsum, -1).flatten()\n"
     ]
    }
   ],
   "source": [
    "# 加载数据集\n",
    "g, nclass, features, labels, train, val, test = preprocess_data(args.dataset, args.train_ratio)\n",
    "\n",
    "features = features.to(device)\n",
    "labels = labels.to(device)\n",
    "\n",
    "idx_train = train.numpy()\n",
    "idx_test = test.numpy()\n",
    "idx_val = val.numpy()\n",
    "\n",
    "train = train.to(device)\n",
    "test = test.to(device)\n",
    "val = val.to(device)"
   ]
  },
  {
   "cell_type": "code",
   "execution_count": 5,
   "metadata": {},
   "outputs": [
    {
     "name": "stdout",
     "output_type": "stream",
     "text": [
      "一共有 6 个类别。\n"
     ]
    }
   ],
   "source": [
    "node_classes=labels\n",
    "# 使用torch.unique函数获取唯一值\n",
    "unique_classes = torch.unique(node_classes)\n",
    "# 获取唯一值的数量\n",
    "c = len(unique_classes)\n",
    "num_loops = 2\n",
    "perturbed_rate = 0.1 # 扰动率\n",
    "print(\"一共有 {} 个类别。\".format(c))"
   ]
  },
  {
   "cell_type": "code",
   "execution_count": 6,
   "metadata": {},
   "outputs": [],
   "source": [
    "def trans1(features):\n",
    "    # 转features数据格式\n",
    "    # 获取非零元素的索引和对应的值\n",
    "    indices = torch.nonzero(features).t()\n",
    "    values = features[indices[0], indices[1]]\n",
    "    # 构建CSR格式的三个数组\n",
    "    row_ptr = torch.tensor([0] + torch.cumsum(torch.bincount(indices[0]), dim=0).tolist(), dtype=torch.int64)\n",
    "    col_indices = indices[1]\n",
    "    data = values\n",
    "    # 创建CSR格式的稀疏矩阵\n",
    "    features = sp.csr_matrix((data.cpu().numpy(), col_indices.cpu().numpy(), row_ptr.cpu().numpy()), shape=features.shape)\n",
    "   \n",
    "    return features\n",
    "\n",
    "def trans2(features):\n",
    "    # 将 CSR 格式的稀疏矩阵转换成 PyTorch 稀疏张量\n",
    "    coo_matrix = features.tocoo()\n",
    "    indices = torch.tensor([coo_matrix.row, coo_matrix.col], dtype=torch.long)\n",
    "    values = torch.tensor(coo_matrix.data, dtype=torch.float32)\n",
    "    size = coo_matrix.shape\n",
    "\n",
    "    # 创建 PyTorch 稀疏张量\n",
    "    sparse_tensor = torch.sparse_coo_tensor(indices, values, size=size)\n",
    "\n",
    "    return sparse_tensor"
   ]
  },
  {
   "cell_type": "code",
   "execution_count": 7,
   "metadata": {},
   "outputs": [],
   "source": [
    "def test(adj):\n",
    "    ''' test on GCN '''\n",
    "    global gcn\n",
    "    # adj = normalize_adj_tensor(adj)\n",
    "    gcn = GCN(nfeat=features.shape[1],\n",
    "              nhid=16,\n",
    "              nclass=labels.max().item() + 1,\n",
    "              dropout=0.5, device=device)\n",
    "\n",
    "    gcn = gcn.to(device)\n",
    "\n",
    "    gcn.fit(features, adj, labels, idx_train) # train without model picking\n",
    "    # gcn.fit(features, adj, labels, idx_train, idx_val) # train with validation model picking\n",
    "    output = gcn.output\n",
    "    loss_test = F.nll_loss(output[idx_test], labels[idx_test])\n",
    "    acc_test = accuracy(output[idx_test], labels[idx_test])\n",
    "    print(\"Test set results:\",\n",
    "          \"loss= {:.4f}\".format(loss_test.item()),\n",
    "          \"accuracy= {:.4f}\".format(acc_test.item()))\n",
    "\n",
    "    return acc_test.item()"
   ]
  },
  {
   "cell_type": "code",
   "execution_count": 8,
   "metadata": {},
   "outputs": [],
   "source": [
    "def test(adj_ori):\n",
    "    ''' test on GCN '''\n",
    "    global gcn\n",
    "    # adj = normalize_adj_tensor(adj)\n",
    "    gcn = GCN(nfeat=features.shape[1],\n",
    "              nhid=16,\n",
    "              nclass=labels.max().item() + 1,\n",
    "              dropout=0.5, device=device)\n",
    "\n",
    "    gcn = gcn.to(device)\n",
    "\n",
    "    gcn.fit(features, adj_ori, labels, idx_train) # train without model picking\n",
    "    # gcn.fit(features, adj, labels, idx_train, idx_val) # train with validation model picking\n",
    "    output = gcn.output\n",
    "    loss_test = F.nll_loss(output[idx_test], labels[idx_test])\n",
    "    acc_test = accuracy(output[idx_test], labels[idx_test])\n",
    "    info = 0\n",
    "    for i in range(c):\n",
    "        id_lables = idx_test[np.where(labels[idx_test].to('cpu') == i)] # 标签为0的节点id\n",
    "        p = accuracy(output[id_lables], labels[id_lables])\n",
    "        p = p.to('cpu')\n",
    "        print(p)\n",
    "        info += (-p) * np.log(p)\n",
    "    \n",
    "    print(\"Test set results:\",\n",
    "          \"loss= {:.4f}\".format(loss_test.item()),\n",
    "          \"accuracy= {:.4f}\".format(acc_test.item()))\n",
    "    print(info)\n",
    "\n",
    "    return acc_test.item()"
   ]
  },
  {
   "cell_type": "code",
   "execution_count": 9,
   "metadata": {},
   "outputs": [],
   "source": [
    "# 转换为 CSR matrix，原图\n",
    "adj_clean = g.adjacency_matrix(transpose=True, scipy_fmt=\"csr\")\n",
    "adj_clean = adj_clean.astype(np.float32)\n",
    "\n",
    "features_ori =features\n",
    "features = trans1(features)\n",
    "features = trans2(features)"
   ]
  },
  {
   "cell_type": "code",
   "execution_count": 10,
   "metadata": {},
   "outputs": [
    {
     "name": "stdout",
     "output_type": "stream",
     "text": [
      "=== testing GCN on clean graph ===\n",
      "tensor(0.4156, dtype=torch.float64)\n",
      "tensor(0.6374, dtype=torch.float64)\n",
      "tensor(0.7072, dtype=torch.float64)\n",
      "tensor(0.7316, dtype=torch.float64)\n",
      "tensor(0.8343, dtype=torch.float64)\n",
      "tensor(0.8250, dtype=torch.float64)\n",
      "Test set results: loss= 1.0617 accuracy= 0.7180\n",
      "tensor(1.4355, dtype=torch.float64)\n"
     ]
    },
    {
     "data": {
      "text/plain": [
       "0.718"
      ]
     },
     "execution_count": 10,
     "metadata": {},
     "output_type": "execute_result"
    }
   ],
   "source": [
    "adj = trans2(adj_clean)\n",
    "print('=== testing GCN on clean graph ===')\n",
    "test(adj)"
   ]
  },
  {
   "cell_type": "code",
   "execution_count": 11,
   "metadata": {},
   "outputs": [],
   "source": [
    "# 设置攻击模型\n",
    "target_node = np.arange(adj_clean.shape[0])         # 可以修改目标节点ID\n",
    "#n_edge_mod = int(g.num_edges() * perturbed_rate)\n",
    "n_edge_mod = 10\n",
    "ratio_delete = 0.6\n",
    "model = DICE(n_edge_mod, ratio_delete)"
   ]
  },
  {
   "cell_type": "code",
   "execution_count": 12,
   "metadata": {},
   "outputs": [
    {
     "name": "stdout",
     "output_type": "stream",
     "text": [
      "Delete internally......\n"
     ]
    },
    {
     "data": {
      "application/vnd.jupyter.widget-view+json": {
       "model_id": "d75da282b59f4d96ac99e04043ece018",
       "version_major": 2,
       "version_minor": 0
      },
      "text/plain": [
       "  0%|          | 0/2790 [00:00<?, ?it/s]"
      ]
     },
     "metadata": {},
     "output_type": "display_data"
    },
    {
     "name": "stdout",
     "output_type": "stream",
     "text": [
      "Connect externally......\n"
     ]
    },
    {
     "data": {
      "application/vnd.jupyter.widget-view+json": {
       "model_id": "0053bbdc933942eca96aa3b984f9b133",
       "version_major": 2,
       "version_minor": 0
      },
      "text/plain": [
       "  0%|          | 0/1000 [00:00<?, ?it/s]"
      ]
     },
     "metadata": {},
     "output_type": "display_data"
    },
    {
     "name": "stdout",
     "output_type": "stream",
     "text": [
      "DICE attack finished. 6 edges were removed, 4 edges were connected.\n"
     ]
    }
   ],
   "source": [
    "# 进行攻击\n",
    "modified_adj = model.attack(adj_clean, idx_test, labels)  # 直接攻击\n",
    "\n",
    "modified_adj = trans2(modified_adj)\n",
    "modified_adj = modified_adj.to(device)"
   ]
  },
  {
   "cell_type": "code",
   "execution_count": 13,
   "metadata": {},
   "outputs": [
    {
     "name": "stdout",
     "output_type": "stream",
     "text": [
      "=== testing GCN on perturbed graph ===\n",
      "tensor(0.6550, device='cuda:0')\n"
     ]
    }
   ],
   "source": [
    "# 逃逸攻击\n",
    "print('=== testing GCN on perturbed graph ===')\n",
    "gcn.eval()\n",
    "with torch.no_grad():\n",
    "    logits = gcn(features_ori, modified_adj)\n",
    "pred = logits.argmax(dim=-1)\n",
    "test_acc = (pred[idx_test] == labels[idx_test]).float().mean()\n",
    "print(test_acc)"
   ]
  }
 ],
 "metadata": {
  "kernelspec": {
   "display_name": "DeepRobust",
   "language": "python",
   "name": "python3"
  },
  "language_info": {
   "codemirror_mode": {
    "name": "ipython",
    "version": 3
   },
   "file_extension": ".py",
   "mimetype": "text/x-python",
   "name": "python",
   "nbconvert_exporter": "python",
   "pygments_lexer": "ipython3",
   "version": "3.7.12"
  }
 },
 "nbformat": 4,
 "nbformat_minor": 2
}
