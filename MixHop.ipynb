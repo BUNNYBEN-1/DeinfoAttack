{
 "cells": [
  {
   "cell_type": "code",
   "execution_count": 1,
   "metadata": {},
   "outputs": [
    {
     "ename": "ModuleNotFoundError",
     "evalue": "No module named 'param_parser'",
     "output_type": "error",
     "traceback": [
      "\u001b[0;31m---------------------------------------------------------------------------\u001b[0m",
      "\u001b[0;31mModuleNotFoundError\u001b[0m                       Traceback (most recent call last)",
      "\u001b[0;32m/tmp/ipykernel_27166/905513166.py\u001b[0m in \u001b[0;36m<module>\u001b[0;34m\u001b[0m\n\u001b[1;32m      2\u001b[0m \u001b[0;34m\u001b[0m\u001b[0m\n\u001b[1;32m      3\u001b[0m \u001b[0;32mimport\u001b[0m \u001b[0mtorch\u001b[0m\u001b[0;34m\u001b[0m\u001b[0;34m\u001b[0m\u001b[0m\n\u001b[0;32m----> 4\u001b[0;31m \u001b[0;32mfrom\u001b[0m \u001b[0mparam_parser\u001b[0m \u001b[0;32mimport\u001b[0m \u001b[0mparameter_parser\u001b[0m\u001b[0;34m\u001b[0m\u001b[0;34m\u001b[0m\u001b[0m\n\u001b[0m\u001b[1;32m      5\u001b[0m \u001b[0;32mfrom\u001b[0m \u001b[0mtrainer_and_networks\u001b[0m \u001b[0;32mimport\u001b[0m \u001b[0mTrainer\u001b[0m\u001b[0;34m\u001b[0m\u001b[0;34m\u001b[0m\u001b[0m\n\u001b[1;32m      6\u001b[0m \u001b[0;32mfrom\u001b[0m \u001b[0mutils\u001b[0m \u001b[0;32mimport\u001b[0m \u001b[0mtab_printer\u001b[0m\u001b[0;34m,\u001b[0m \u001b[0mgraph_reader\u001b[0m\u001b[0;34m,\u001b[0m \u001b[0mfeature_reader\u001b[0m\u001b[0;34m,\u001b[0m \u001b[0mtarget_reader\u001b[0m\u001b[0;34m\u001b[0m\u001b[0;34m\u001b[0m\u001b[0m\n",
      "\u001b[0;31mModuleNotFoundError\u001b[0m: No module named 'param_parser'"
     ]
    }
   ],
   "source": [
    "\"\"\"Running MixHop or N-GCN.\"\"\"\n",
    "\n",
    "import torch\n",
    "from param_parser import parameter_parser\n",
    "from trainer_and_networks import Trainer\n",
    "from utils import tab_printer, graph_reader, feature_reader, target_reader\n",
    "\n",
    "def main():\n",
    "    \"\"\"\n",
    "    Parsing command line parameters, reading data.\n",
    "    Fitting an NGCN and scoring the model.\n",
    "    \"\"\"\n",
    "    args = parameter_parser()\n",
    "    torch.manual_seed(args.seed)\n",
    "    tab_printer(args)\n",
    "    graph = graph_reader(args.edge_path)\n",
    "    features = feature_reader(args.features_path)\n",
    "    target = target_reader(args.target_path)\n",
    "    trainer = Trainer(args, graph, features, target, True)\n",
    "    trainer.fit()\n",
    "    if args.model == \"mixhop\":\n",
    "        trainer.evaluate_architecture()\n",
    "        args = trainer.reset_architecture()\n",
    "        trainer = Trainer(args, graph, features, target, False)\n",
    "        trainer.fit()\n",
    "\n",
    "if __name__ == \"__main__\":\n",
    "    main()"
   ]
  }
 ],
 "metadata": {
  "kernelspec": {
   "display_name": "DeepRobust",
   "language": "python",
   "name": "python3"
  },
  "language_info": {
   "codemirror_mode": {
    "name": "ipython",
    "version": 3
   },
   "file_extension": ".py",
   "mimetype": "text/x-python",
   "name": "python",
   "nbconvert_exporter": "python",
   "pygments_lexer": "ipython3",
   "version": "3.7.12"
  }
 },
 "nbformat": 4,
 "nbformat_minor": 2
}
