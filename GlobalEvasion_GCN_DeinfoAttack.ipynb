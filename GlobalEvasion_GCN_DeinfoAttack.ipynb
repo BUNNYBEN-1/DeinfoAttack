{
 "cells": [
  {
   "cell_type": "code",
   "execution_count": 1,
   "metadata": {},
   "outputs": [
    {
     "name": "stderr",
     "output_type": "stream",
     "text": [
      "Using backend: pytorch\n"
     ]
    }
   ],
   "source": [
    "# 全局攻击 数据集：异配图数据集；代理模型：GCN；攻击算法：最新的代码\n",
    "import torch\n",
    "import torch.nn as nn\n",
    "import numpy as np\n",
    "import torch.nn.functional as F\n",
    "import torch_geometric.transforms as T\n",
    "import torch.optim as optim\n",
    "import scipy.sparse as sp\n",
    "from copy import deepcopy\n",
    "from torch_geometric.utils import to_undirected\n",
    "from torch_sparse import SparseTensor\n",
    "import matplotlib.pyplot as plt\n",
    "\n",
    "from utils import *\n",
    "from gcn import GCN"
   ]
  },
  {
   "cell_type": "code",
   "execution_count": 2,
   "metadata": {},
   "outputs": [],
   "source": [
    "# 模拟命令行参数\n",
    "class Args:\n",
    "    def __init__(self, dataset='cora'):\n",
    "        self.seed = 15\n",
    "        self.dataset = dataset\n",
    "        self.input_size = 0\n",
    "        self.output_size = 0\n",
    "        self.hidden_size = 64\n",
    "        self.epochs = 2000\n",
    "        self.lr = 0.001\n",
    "        self.drop_prob = 0.5\n",
    "        self.round = 2\n",
    "        self.train_ratio = 0.6\n",
    "        self.patience = 200\n",
    "\n",
    "# 传入特定的参数值\n",
    "args = Args(dataset='texas') \n",
    "# 默认dataset为'cora'，可以传入的dataset参数有：choices=['cora', 'citeseer', 'pubmed', 'film', 'squirrel', 'chameleon', 'texas', 'cornell', 'wisconsin']"
   ]
  },
  {
   "cell_type": "code",
   "execution_count": 3,
   "metadata": {},
   "outputs": [
    {
     "name": "stdout",
     "output_type": "stream",
     "text": [
      "cuda: True\n"
     ]
    }
   ],
   "source": [
    "# 是否使用cuda\n",
    "args.cuda = torch.cuda.is_available()\n",
    "print('cuda: %s' % args.cuda)\n",
    "device = torch.device(\"cuda:0\" if torch.cuda.is_available() else \"cpu\")\n",
    "\n",
    "np.random.seed(args.seed)\n",
    "torch.manual_seed(args.seed)\n",
    "if args.cuda:\n",
    "    torch.cuda.manual_seed(args.seed)"
   ]
  },
  {
   "cell_type": "code",
   "execution_count": 4,
   "metadata": {},
   "outputs": [
    {
     "name": "stdout",
     "output_type": "stream",
     "text": [
      "texas 5\n"
     ]
    },
    {
     "name": "stderr",
     "output_type": "stream",
     "text": [
      "/home/wangyajing/anaconda3/envs/DeepRobust/lib/python3.7/site-packages/dgl/base.py:45: DGLWarning: Recommend creating graphs by `dgl.graph(data)` instead of `dgl.DGLGraph(data)`.\n",
      "  return warnings.warn(message, category=category, stacklevel=1)\n"
     ]
    }
   ],
   "source": [
    "# 加载数据集\n",
    "g, nclass, features, labels, train, val, test = preprocess_data(args.dataset, args.train_ratio)\n",
    "\n",
    "features = features.to(device)\n",
    "labels = labels.to(device)\n",
    "\n",
    "idx_train = train.numpy()\n",
    "idx_test = test.numpy()\n",
    "idx_val = val.numpy()\n",
    "\n",
    "train = train.to(device)\n",
    "test = test.to(device)\n",
    "val = val.to(device)"
   ]
  },
  {
   "cell_type": "code",
   "execution_count": 5,
   "metadata": {},
   "outputs": [
    {
     "name": "stdout",
     "output_type": "stream",
     "text": [
      "一共有 5 个类别。\n"
     ]
    }
   ],
   "source": [
    "node_classes=labels\n",
    "# 使用torch.unique函数获取唯一值\n",
    "unique_classes = torch.unique(node_classes)\n",
    "# 获取唯一值的数量\n",
    "c = len(unique_classes)\n",
    "num_loops = 2\n",
    "perturbed_rate = 0.1 # 扰动率\n",
    "print(\"一共有 {} 个类别。\".format(c))"
   ]
  },
  {
   "cell_type": "code",
   "execution_count": 6,
   "metadata": {},
   "outputs": [],
   "source": [
    "# 得到adj和adj_2hop\n",
    "def toCSR(spt):\n",
    "    rowptr, col, value = spt.csr()\n",
    "    mat = sp.csr_matrix((value, col, rowptr)).tolil()\n",
    "    mat.setdiag(0)\n",
    "    return mat.tocsr()\n",
    "\n",
    "edge_index = to_undirected(g.edges())\n",
    "adj = SparseTensor(row=edge_index[0], col=edge_index[1],\n",
    "                   sparse_sizes=(g.num_nodes(), g.num_nodes())).fill_value(1.0)\n",
    "adj2 = adj.matmul(adj).fill_value(1.0)\n",
    "adj_2hop = (toCSR(adj2) - toCSR(adj)) > 0\n",
    "adj_2hop = SparseTensor.from_scipy(adj_2hop).fill_value(1.0)\n",
    "\n",
    "adj = adj.to(device)\n",
    "adj_clean = adj\n",
    "adj_2hop = adj_2hop.to(device)"
   ]
  },
  {
   "cell_type": "code",
   "execution_count": 7,
   "metadata": {},
   "outputs": [],
   "source": [
    "# 得到目标节点的一跳和两跳邻居节点\n",
    "# target_nodes = np.random.randint(15, labels.numel(), size=20)\n",
    "dense_adj = adj.to_dense().cpu().numpy()\n",
    "dense_adj_2hop = adj_2hop.to_dense().cpu().numpy()"
   ]
  },
  {
   "cell_type": "code",
   "execution_count": 8,
   "metadata": {},
   "outputs": [],
   "source": [
    "# 预算，修改的边的数量\n",
    "budget = int(g.num_edges() * perturbed_rate)\n",
    "#budget = 10\n",
    "\n",
    "# 全部节点的度\n",
    "d = torch.sum(adj[test].to_dense(), dim = 1)\n",
    "d = d.int()\n",
    "\n",
    "# 全部节点的二阶邻域的度\n",
    "d2 = torch.sum(adj_2hop[test].to_dense(), dim = 1)\n",
    "d2 = d2.int()\n",
    "\n",
    "# 转换为 CSR matrix，得到被攻击的初始图（=原图）\n",
    "adj_attacked = g.adjacency_matrix(transpose=True, scipy_fmt=\"csr\")\n",
    "adj_attacked = adj_attacked.astype(np.float32)\n",
    "\n",
    "# 假设你想要添加的边的权重是1\n",
    "edge_weight = 1"
   ]
  },
  {
   "cell_type": "code",
   "execution_count": 9,
   "metadata": {},
   "outputs": [],
   "source": [
    "def trans1(features):\n",
    "    # 转features数据格式\n",
    "    # 获取非零元素的索引和对应的值\n",
    "    indices = torch.nonzero(features).t()\n",
    "    values = features[indices[0], indices[1]]\n",
    "    # 构建CSR格式的三个数组\n",
    "    row_ptr = torch.tensor([0] + torch.cumsum(torch.bincount(indices[0]), dim=0).tolist(), dtype=torch.int64)\n",
    "    col_indices = indices[1]\n",
    "    data = values\n",
    "    # 创建CSR格式的稀疏矩阵\n",
    "    features = sp.csr_matrix((data.cpu().numpy(), col_indices.cpu().numpy(), row_ptr.cpu().numpy()), shape=features.shape)\n",
    "   \n",
    "    return features\n",
    "\n",
    "def trans2(features):\n",
    "    # 将 CSR 格式的稀疏矩阵转换成 PyTorch 稀疏张量\n",
    "    coo_matrix = features.tocoo()\n",
    "    indices = torch.tensor([coo_matrix.row, coo_matrix.col], dtype=torch.long)\n",
    "    values = torch.tensor(coo_matrix.data, dtype=torch.float32)\n",
    "    size = coo_matrix.shape\n",
    "\n",
    "    # 创建 PyTorch 稀疏张量\n",
    "    sparse_tensor = torch.sparse_coo_tensor(indices, values, size=size)\n",
    "\n",
    "    return sparse_tensor"
   ]
  },
  {
   "cell_type": "code",
   "execution_count": 10,
   "metadata": {},
   "outputs": [],
   "source": [
    "def test_model(adj_ori):\n",
    "    ''' test on GCN '''\n",
    "    global gcn\n",
    "    # adj = normalize_adj_tensor(adj)\n",
    "    gcn = GCN(nfeat=features.shape[1],\n",
    "              nhid=16,\n",
    "              nclass=labels.max().item() + 1,\n",
    "              dropout=0.5, device=device)\n",
    "\n",
    "    gcn = gcn.to(device)\n",
    "\n",
    "    gcn.fit(features, adj_ori, labels, idx_train) # train without model picking\n",
    "    # gcn.fit(features, adj, labels, idx_train, idx_val) # train with validation model picking\n",
    "    output = gcn.output\n",
    "    loss_test = F.nll_loss(output[idx_test], labels[idx_test])\n",
    "    acc_test = accuracy(output[idx_test], labels[idx_test])\n",
    "    \n",
    "    print(\"Test set results:\",\n",
    "          \"loss= {:.4f}\".format(loss_test.item()),\n",
    "          \"accuracy= {:.4f}\".format(acc_test.item()))\n",
    "\n",
    "    return acc_test.item()"
   ]
  },
  {
   "cell_type": "code",
   "execution_count": 11,
   "metadata": {},
   "outputs": [],
   "source": [
    "# 转换为 CSR matrix，原图\n",
    "adj_clean = g.adjacency_matrix(transpose=True, scipy_fmt=\"csr\")\n",
    "adj_clean = adj_clean.astype(np.float32)\n",
    "\n",
    "features_ori =features\n",
    "adj_ori = adj_clean\n",
    "features = trans1(features)\n",
    "features = trans2(features)"
   ]
  },
  {
   "cell_type": "code",
   "execution_count": 12,
   "metadata": {},
   "outputs": [
    {
     "name": "stdout",
     "output_type": "stream",
     "text": [
      "=== testing GCN on clean graph ===\n"
     ]
    },
    {
     "name": "stdout",
     "output_type": "stream",
     "text": [
      "Test set results: loss= 1.0298 accuracy= 0.5405\n"
     ]
    },
    {
     "data": {
      "text/plain": [
       "0.5405405405405406"
      ]
     },
     "execution_count": 12,
     "metadata": {},
     "output_type": "execute_result"
    }
   ],
   "source": [
    "adj_clean = trans2(adj_clean)\n",
    "print('=== testing GCN on clean graph ===')\n",
    "test_model(adj_clean)"
   ]
  },
  {
   "cell_type": "markdown",
   "metadata": {},
   "source": [
    "攻击后"
   ]
  },
  {
   "cell_type": "code",
   "execution_count": 13,
   "metadata": {},
   "outputs": [],
   "source": [
    "def attack(dense_adj, dense_adj_2hop, d_dim): # d_dim表示几阶邻域度\n",
    "    global budget\n",
    "    # 筛选：得到modi_node_idx、modi_node_label、edges_to_connect，分别表示修改的节点ID、修改的节点的标签、修改的节点需要添加的连接数\n",
    "    modi_node_idx1 = []\n",
    "    modi_node_label1 = []\n",
    "    edges_to_connect1 = []\n",
    "    modi_node_idx2 = []\n",
    "    modi_node_label2 = []\n",
    "    edges_to_connect2 = []\n",
    "    sam1hop_sum = 0\n",
    "    sam2hop_sum = 0\n",
    "    src = []\n",
    "    des = []\n",
    "    for i in range(len(test)):\n",
    "        target_node = test[i]\n",
    "        target_label = labels[target_node]\n",
    "        indices_adj = np.where(dense_adj[target_node] == 1)\n",
    "        indices_adj_2hop = np.where(dense_adj_2hop[target_node] == 1)\n",
    "        neighbor_labels = labels[indices_adj]\n",
    "        neighbor_2hop__labels = labels[indices_adj_2hop]\n",
    "        count1 = torch.sum(torch.eq(neighbor_labels, target_label))\n",
    "        total_elements1 = neighbor_labels.numel()\n",
    "        count2 = torch.sum(torch.eq(neighbor_2hop__labels, target_label))\n",
    "        total_elements2 = neighbor_2hop__labels.numel()\n",
    "        sam1hop = count1/total_elements1\n",
    "        sam2hop = count2/total_elements2\n",
    "        sam1hop_sum += abs(sam1hop - 1/c)\n",
    "        sam2hop_sum += abs(sam2hop - 1/c)\n",
    "        if d_dim==1: # 如果是一阶邻域的度\n",
    "            if count1!=0 and d[i]>2: # 度大于2并且节点周围有与该节点标签一样的一阶邻居\n",
    "                modi_node_idx1.append(target_node.item())\n",
    "                modi_node_label1.append(labels[target_node].item())\n",
    "                edges_to_connect1.append(int(c * count1 -d[i].item()))\n",
    "            if count1==0 and d[i]>2: # 度大于2并且节点周围没有与该节点标签一样的一阶邻居\n",
    "                modi_node_idx2.append(target_node.item())\n",
    "                modi_node_label2.append(labels[target_node].item())\n",
    "                edges_to_connect2.append(d[i].item())\n",
    "        elif d_dim==2: # 如果是二阶邻域的度\n",
    "            if count2!=0 and d2[i]>2: # 度大于2并且节点周围有与该节点标签一样的二阶邻居\n",
    "                #print(\"邻居：\", indices_adj[0][0])\n",
    "                neighbor_id = indices_adj[0][0]\n",
    "                #modi_node_idx1.append(target_node.item())\n",
    "                #modi_node_label1.append(labels[target_node].item())\n",
    "                modi_node_idx1.append(neighbor_id)\n",
    "                modi_node_label1.append(labels[neighbor_id].item())\n",
    "                edges_to_connect1.append(int(c * count2 -d2[i].item()))\n",
    "            if count2==0 and d2[i]>2: # 度大于2并且节点周围没有与该节点标签一样的二阶邻居\n",
    "                #print(\"邻居：\", indices_adj[0][0])\n",
    "                neighbor_id = indices_adj[0][0]\n",
    "                #modi_node_idx2.append(target_node.item())\n",
    "                #modi_node_label2.append(labels[target_node].item())\n",
    "                modi_node_idx2.append(neighbor_id)\n",
    "                modi_node_label2.append(labels[neighbor_id].item())\n",
    "                edges_to_connect2.append(d2[i].item())\n",
    "\n",
    "    # 排序：先攻击connect_num大的节点（实验结果）\n",
    "    connect_num = [[] for _ in range(c)]\n",
    "    sorted_num = [[] for _ in range(c)]\n",
    "    idxs = [[] for _ in range(c)]\n",
    "    for i in range(c):\n",
    "        for j in range(len(modi_node_idx1)):\n",
    "            if(modi_node_label1[j] == i):\n",
    "                connect_num[i].append(edges_to_connect1[j])\n",
    "                idxs[i].append(modi_node_idx1[j])\n",
    "                sorted_num[i].append(edges_to_connect1[j]) # 先攻击connect_num大的节点\n",
    "        # 建立索引列表并根据 a[j] 的值排序（从大到小）\n",
    "        sorted_indices = sorted(range(len(sorted_num[i])), key=lambda x: sorted_num[i][x], reverse=True)\n",
    "        # 根据排序后的索引重新排列 b[j]\n",
    "        sorted_idxs = [idxs[i][k] for k in sorted_indices]\n",
    "        # 根据排序后的索引重新排列 a[j]\n",
    "        sorted_edges_to_connect = [connect_num[i][k] for k in sorted_indices]\n",
    "        # 更新 a[j] 和 b[j]\n",
    "        connect_num[i] = sorted_edges_to_connect\n",
    "        idxs[i] = sorted_idxs\n",
    "\n",
    "    num = 0\n",
    "    # 攻击不完全异配的节点\n",
    "    for i in range(c):\n",
    "        for k in range(len(connect_num[i])):\n",
    "            for j in range(c):\n",
    "                for q in range(len(connect_num[j])):\n",
    "                    if(budget>0 and i!=j and connect_num[i][k]>0 and connect_num[j][q]>0):\n",
    "                        a = idxs[i][k]\n",
    "                        b = idxs[j][q]\n",
    "                        if adj_attacked[a,b] == 0: # 如果节点i和节点j不同类且未连接在一起\n",
    "                            adj_attacked[a,b] = edge_weight # 连接节点i和节点j\n",
    "                            src.append(a)\n",
    "                            des.append(b)\n",
    "                            connect_num[i][k] -= 1 # 节点i要连接的边数减去1\n",
    "                            connect_num[j][q] -= 1 # 节点j要连接的边数减去1\n",
    "                            budget -= 1 # 预算减去1\n",
    "                            num = num + 1 #添加的边数\n",
    "    # 攻击完全异配的节点\n",
    "    for i in range(len(modi_node_idx2)):  # 42个目标节点，下标0-41\n",
    "        for j in range(len(modi_node_idx2)):\n",
    "            if edges_to_connect2[i] > 0 and budget>0: # 如果节点i要连接的边数大于0\n",
    "                if modi_node_label2[i] == modi_node_label2[j] and adj_attacked[i,j] == 0: # 如果节点i和节点j同类且未连接在一起\n",
    "                    adj_attacked[i,j] = edge_weight # 连接节点i和节点j\n",
    "                    src.append(i)\n",
    "                    des.append(j)\n",
    "                    edges_to_connect2[i] -= 1 # 节点i要连接的边数减去1\n",
    "                    edges_to_connect2[j] -= 1 # 节点j要连接的边数减去1\n",
    "                    budget -= 1 # 预算减去1\n",
    "                    num = num + 1 #添加的边数\n",
    "    print(src)\n",
    "    print(des)\n",
    "    return num"
   ]
  },
  {
   "cell_type": "code",
   "execution_count": 14,
   "metadata": {},
   "outputs": [
    {
     "name": "stderr",
     "output_type": "stream",
     "text": [
      "/home/wangyajing/anaconda3/envs/DeepRobust/lib/python3.7/site-packages/scipy/sparse/_index.py:82: SparseEfficiencyWarning: Changing the sparsity structure of a csr_matrix is expensive. lil_matrix is more efficient.\n",
      "  self._set_intXint(row, col, x.flat[0])\n"
     ]
    },
    {
     "name": "stdout",
     "output_type": "stream",
     "text": [
      "[147, 0, 0, 1, 1, 2, 2, 3, 3, 4, 4, 4, 5, 5, 6, 6, 6, 6, 7, 7, 8, 8]\n",
      "[146, 0, 2, 1, 6, 0, 2, 3, 5, 0, 2, 4, 3, 5, 1, 6, 7, 8, 1, 6, 1, 6]\n",
      "[56, 56, 56, 56, 56, 50, 50, 50, 50, 50, 50, 50, 50, 50, 50, 50, 50, 66, 66, 66, 66, 66, 66, 66, 66, 29, 29, 29, 29, 29, 29, 29, 29]\n",
      "[58, 173, 15, 4, 95, 29, 47, 58, 173, 84, 116, 146, 15, 4, 80, 131, 95, 29, 47, 58, 173, 84, 116, 146, 15, 50, 66, 116, 146, 15, 4, 80, 131]\n",
      "[]\n",
      "[]\n",
      "[]\n",
      "[]\n"
     ]
    }
   ],
   "source": [
    "num1 = 0\n",
    "num2 = 0\n",
    "num3 = 0\n",
    "num4 = 0 \n",
    "for i in range(num_loops):\n",
    "    # 攻击，可以交换顺序\n",
    "    \n",
    "    num1 = attack(dense_adj, dense_adj_2hop, d_dim=1)\n",
    "    num2 = attack(dense_adj, dense_adj_2hop, d_dim=2)\n",
    "    \n",
    "    # 将邻接矩阵转换为 COO 格式\n",
    "    coo_adjacency_matrix = sp.coo_matrix(adj_attacked)\n",
    "    # 创建一个 DGL 图对象\n",
    "    g_attacked = dgl.graph((coo_adjacency_matrix.row, coo_adjacency_matrix.col))\n",
    "    edge_index = to_undirected(g_attacked.edges())\n",
    "    adj = SparseTensor(row=edge_index[0], col=edge_index[1],\n",
    "                        sparse_sizes=(g_attacked.num_nodes(), g_attacked.num_nodes())).fill_value(1.0)\n",
    "    adj2 = adj.matmul(adj).fill_value(1.0)\n",
    "    adj_2hop = (toCSR(adj2) - toCSR(adj)) > 0\n",
    "    adj_2hop = SparseTensor.from_scipy(adj_2hop).fill_value(1.0)\n",
    "\n",
    "    adj = adj.to(device)\n",
    "    mod_adj = adj\n",
    "    adj_2hop = adj_2hop.to(device)\n",
    "    \n",
    "    # 得到目标节点的一跳和两跳邻居节点\n",
    "    dense_adj = adj.to_dense().cpu().numpy()\n",
    "    dense_adj2 = dense_adj\n",
    "    dense_adj_2hop = adj_2hop.to_dense().cpu().numpy()"
   ]
  },
  {
   "cell_type": "code",
   "execution_count": 15,
   "metadata": {},
   "outputs": [],
   "source": [
    "# 全部节点的度\n",
    "d_clean = torch.sum(adj_clean.to_dense(), dim = 1)\n",
    "d_clean = d_clean.int()\n",
    "# 全部节点的度\n",
    "d_mod = torch.sum(mod_adj.to_dense(), dim = 1)\n",
    "d_mod = d_mod.int()"
   ]
  },
  {
   "cell_type": "code",
   "execution_count": 16,
   "metadata": {},
   "outputs": [],
   "source": [
    "tensor_adj = torch.tensor(dense_adj)\n",
    "tensor_adj = trans1(tensor_adj)\n",
    "tensor_adj = trans2(tensor_adj)\n",
    "modified_adj = tensor_adj.to(device)"
   ]
  },
  {
   "cell_type": "code",
   "execution_count": 17,
   "metadata": {},
   "outputs": [
    {
     "name": "stdout",
     "output_type": "stream",
     "text": [
      "=== testing GCN on perturbed graph ===\n",
      "tensor(0.5946, device='cuda:0')\n"
     ]
    }
   ],
   "source": [
    "# 逃逸攻击\n",
    "print('=== testing GCN on perturbed graph ===')\n",
    "gcn.eval()\n",
    "with torch.no_grad():\n",
    "    logits = gcn(features_ori, modified_adj)\n",
    "pred = logits.argmax(dim=-1)\n",
    "test_acc = (pred[idx_test] == labels[idx_test]).float().mean()\n",
    "print(test_acc)"
   ]
  }
 ],
 "metadata": {
  "kernelspec": {
   "display_name": "DeepRobust",
   "language": "python",
   "name": "python3"
  },
  "language_info": {
   "codemirror_mode": {
    "name": "ipython",
    "version": 3
   },
   "file_extension": ".py",
   "mimetype": "text/x-python",
   "name": "python",
   "nbconvert_exporter": "python",
   "pygments_lexer": "ipython3",
   "version": "3.7.12"
  }
 },
 "nbformat": 4,
 "nbformat_minor": 2
}
