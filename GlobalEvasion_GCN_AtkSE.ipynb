{
 "cells": [
  {
   "cell_type": "code",
   "execution_count": 1,
   "metadata": {},
   "outputs": [
    {
     "name": "stderr",
     "output_type": "stream",
     "text": [
      "Using backend: pytorch\n"
     ]
    }
   ],
   "source": [
    "# 全局攻击 逃逸攻击 数据集：异配图数据集；代理模型：GCN；攻击算法：AtkSE\n",
    "import torch\n",
    "import torch.nn as nn\n",
    "import numpy as np\n",
    "import torch.nn.functional as F\n",
    "import torch_geometric.transforms as T\n",
    "import torch.optim as optim\n",
    "import scipy.sparse as sp\n",
    "from copy import deepcopy\n",
    "from torch_geometric.utils import to_undirected\n",
    "from torch_sparse import SparseTensor\n",
    "from tqdm import tqdm\n",
    "from torch_geometric.data import Data\n",
    "\n",
    "from utils import *\n",
    "from gcn import GCN\n",
    "from AtkSE import AtkSE\n",
    "from gcn_AtkSE import GCN_AtkSE"
   ]
  },
  {
   "cell_type": "code",
   "execution_count": 2,
   "metadata": {},
   "outputs": [],
   "source": [
    "# 模拟命令行参数\n",
    "class Args:\n",
    "    def __init__(self, dataset='cora', weight_decay=5e-4, model = 'Meta-Self'):\n",
    "        self.seed = 15\n",
    "        self.dataset = dataset\n",
    "        self.input_size = 0\n",
    "        self.output_size = 0\n",
    "        self.hidden_size = 64\n",
    "        self.hidden = 16\n",
    "        self.epochs = 2000\n",
    "        self.lr = 0.001\n",
    "        self.drop_prob = 0.5\n",
    "        self.round = 2\n",
    "        self.train_ratio = 0.6\n",
    "        self.patience = 200\n",
    "        self.weight_decay = weight_decay\n",
    "        self.ptb_rate = 0.1\n",
    "        self.model = model\n",
    "        self.momentum = 0.9\n",
    "        self.dropnode = 0.05\n",
    "        self.gauss_noise = 2e-4\n",
    "        self.smooth_loop = 40\n",
    "        self.wait_list = 4\n",
    "        self.intervals = 0.25\n",
    "        self.candidates = 32\n",
    "        \n",
    "# 传入特定的参数值\n",
    "args = Args(dataset='cora', weight_decay=1e-4, model = 'Meta-Self') \n",
    "# 默认dataset为'cora'，可以传入的dataset参数有：choices=['cora', 'citeseer', 'pubmed', 'film', 'squirrel', 'chameleon', 'texas', 'cornell', 'wisconsin']\n",
    "# model默认'Meta-Self'，可选['Meta-Self', 'A-Meta-Self', 'Meta-Train', 'A-Meta-Train']"
   ]
  },
  {
   "cell_type": "code",
   "execution_count": 3,
   "metadata": {},
   "outputs": [
    {
     "name": "stdout",
     "output_type": "stream",
     "text": [
      "cuda: True\n"
     ]
    }
   ],
   "source": [
    "# 是否使用cuda\n",
    "args.cuda = torch.cuda.is_available()\n",
    "print('cuda: %s' % args.cuda)\n",
    "device = torch.device(\"cuda:0\" if torch.cuda.is_available() else \"cpu\")\n",
    "\n",
    "np.random.seed(args.seed)\n",
    "torch.manual_seed(args.seed)\n",
    "if args.cuda:\n",
    "    torch.cuda.manual_seed(args.seed)"
   ]
  },
  {
   "cell_type": "code",
   "execution_count": 4,
   "metadata": {},
   "outputs": [
    {
     "name": "stdout",
     "output_type": "stream",
     "text": [
      "cora 7\n"
     ]
    }
   ],
   "source": [
    "# 加载数据集\n",
    "g, nclass, features, labels, train, val, test = preprocess_data(args.dataset, args.train_ratio)\n",
    "\n",
    "features = features.to(device)\n",
    "\n",
    "idx_train = train.numpy()\n",
    "idx_test = test.numpy()\n",
    "idx_val = val.numpy()\n",
    "\n",
    "train = train.to(device)\n",
    "test = test.to(device)\n",
    "val = val.to(device)"
   ]
  },
  {
   "cell_type": "code",
   "execution_count": 5,
   "metadata": {},
   "outputs": [],
   "source": [
    "def trans1(features):\n",
    "    # 转features数据格式\n",
    "    # 获取非零元素的索引和对应的值\n",
    "    indices = torch.nonzero(features).t()\n",
    "    values = features[indices[0], indices[1]]\n",
    "    # 构建CSR格式的三个数组\n",
    "    row_ptr = torch.tensor([0] + torch.cumsum(torch.bincount(indices[0]), dim=0).tolist(), dtype=torch.int64)\n",
    "    col_indices = indices[1]\n",
    "    data = values\n",
    "    # 创建CSR格式的稀疏矩阵\n",
    "    features = sp.csr_matrix((data.cpu().numpy(), col_indices.cpu().numpy(), row_ptr.cpu().numpy()), shape=features.shape)\n",
    "   \n",
    "    return features\n",
    "\n",
    "def trans2(features):\n",
    "    # 将 CSR 格式的稀疏矩阵转换成 PyTorch 稀疏张量\n",
    "    coo_matrix = features.tocoo()\n",
    "    indices = torch.tensor([coo_matrix.row, coo_matrix.col], dtype=torch.long)\n",
    "    values = torch.tensor(coo_matrix.data, dtype=torch.float32)\n",
    "    size = coo_matrix.shape\n",
    "\n",
    "    # 创建 PyTorch 稀疏张量\n",
    "    sparse_tensor = torch.sparse_coo_tensor(indices, values, size=size)\n",
    "\n",
    "    return sparse_tensor"
   ]
  },
  {
   "cell_type": "code",
   "execution_count": 6,
   "metadata": {},
   "outputs": [],
   "source": [
    "# 转换为adj_clean（CSR matrix），原图adj为Tensor\n",
    "adj_clean = g.adjacency_matrix(transpose=True, scipy_fmt=\"csr\")\n",
    "adj_clean = adj_clean.astype(np.float32)\n",
    "adj_sparse = trans2(adj_clean)\n",
    "adj = adj_sparse.to_dense()\n",
    "adj = adj.to(device)"
   ]
  },
  {
   "cell_type": "code",
   "execution_count": 7,
   "metadata": {},
   "outputs": [
    {
     "name": "stdout",
     "output_type": "stream",
     "text": [
      "一共有 7 个类别。\n"
     ]
    }
   ],
   "source": [
    "node_classes=labels\n",
    "# 使用torch.unique函数获取唯一值\n",
    "unique_classes = torch.unique(node_classes)\n",
    "# 获取唯一值的数量\n",
    "c = len(unique_classes)\n",
    "num_loops = 2\n",
    "print(\"一共有 {} 个类别。\".format(c))"
   ]
  },
  {
   "cell_type": "code",
   "execution_count": 8,
   "metadata": {},
   "outputs": [],
   "source": [
    "def test(adj):\n",
    "    ''' test on GCN '''\n",
    "    global gcn\n",
    "    # adj = normalize_adj_tensor(adj)\n",
    "    gcn = GCN(nfeat=features.shape[1],\n",
    "              nhid=16,\n",
    "              nclass=labels.max().item() + 1,\n",
    "              dropout=0.5, device=device)\n",
    "\n",
    "    gcn = gcn.to(device)\n",
    "\n",
    "    gcn.fit(features, adj, labels, idx_train) # train without model picking\n",
    "    # gcn.fit(features, adj, labels, idx_train, idx_val) # train with validation model picking\n",
    "    output = gcn.output\n",
    "    loss_test = F.nll_loss(output[idx_test], labels[idx_test])\n",
    "    acc_test = accuracy(output[idx_test], labels[idx_test])\n",
    "    print(\"Test set results:\",\n",
    "          \"loss= {:.4f}\".format(loss_test.item()),\n",
    "          \"accuracy= {:.4f}\".format(acc_test.item()))\n",
    "\n",
    "    return acc_test.item()"
   ]
  },
  {
   "cell_type": "code",
   "execution_count": 9,
   "metadata": {},
   "outputs": [],
   "source": [
    "labels_cpu = labels\n",
    "labels = labels.to(device)"
   ]
  },
  {
   "cell_type": "code",
   "execution_count": 10,
   "metadata": {},
   "outputs": [
    {
     "name": "stdout",
     "output_type": "stream",
     "text": [
      "=== testing GCN on clean graph ===\n",
      "Test set results: loss= 0.7718 accuracy= 0.8190\n"
     ]
    },
    {
     "data": {
      "text/plain": [
       "0.8190000000000001"
      ]
     },
     "execution_count": 10,
     "metadata": {},
     "output_type": "execute_result"
    }
   ],
   "source": [
    "print('=== testing GCN on clean graph ===')\n",
    "test(adj_sparse)"
   ]
  },
  {
   "cell_type": "code",
   "execution_count": 11,
   "metadata": {},
   "outputs": [],
   "source": [
    "model = AtkSE(args, nfeat=features.shape[1], hidden_sizes=[args.hidden],\n",
    "                    nnodes=adj.shape[0], nclass=nclass, dropout=0.5,\n",
    "                    train_iters=100, attack_features=False, lambda_=0, device=device, momentum=args.momentum)"
   ]
  },
  {
   "cell_type": "code",
   "execution_count": 12,
   "metadata": {},
   "outputs": [],
   "source": [
    "idx_unlabeled = np.union1d(idx_val, idx_test)\n",
    "perturbations = int(args.ptb_rate * (adj.sum()//2))"
   ]
  },
  {
   "cell_type": "code",
   "execution_count": 13,
   "metadata": {},
   "outputs": [
    {
     "name": "stderr",
     "output_type": "stream",
     "text": [
      "Perturbing graph: 100%|██████████| 527/527 [7:17:45<00:00, 49.84s/it]  \n"
     ]
    }
   ],
   "source": [
    "modified_adj = model(features, adj, labels, idx_train, idx_unlabeled, perturbations)\n",
    "modified_adj = modified_adj.to(device)"
   ]
  },
  {
   "cell_type": "code",
   "execution_count": 14,
   "metadata": {},
   "outputs": [
    {
     "name": "stdout",
     "output_type": "stream",
     "text": [
      "=== testing GCN on perturbed graph ===\n",
      "tensor(0.7160, device='cuda:0')\n"
     ]
    }
   ],
   "source": [
    "# 逃逸攻击\n",
    "print('=== testing GCN on perturbed graph ===')\n",
    "gcn.eval()\n",
    "with torch.no_grad():\n",
    "    logits = gcn(features, modified_adj)\n",
    "pred = logits.argmax(dim=-1)\n",
    "test_acc = (pred[idx_test] == labels[idx_test]).float().mean()\n",
    "print(test_acc)"
   ]
  },
  {
   "cell_type": "code",
   "execution_count": 15,
   "metadata": {},
   "outputs": [],
   "source": [
    "import pickle\n",
    "\n",
    "file_name = f'{args.dataset}_AtkSE_modified_adj.pkl'\n",
    "\n",
    "# 存储变量到文件\n",
    "with open(file_name, 'wb') as f:\n",
    "    pickle.dump(modified_adj, f)"
   ]
  },
  {
   "cell_type": "code",
   "execution_count": 16,
   "metadata": {},
   "outputs": [
    {
     "ename": "NameError",
     "evalue": "name 'a' is not defined",
     "output_type": "error",
     "traceback": [
      "\u001b[0;31m---------------------------------------------------------------------------\u001b[0m",
      "\u001b[0;31mNameError\u001b[0m                                 Traceback (most recent call last)",
      "\u001b[0;32m/tmp/ipykernel_7045/2167009006.py\u001b[0m in \u001b[0;36m<module>\u001b[0;34m\u001b[0m\n\u001b[0;32m----> 1\u001b[0;31m \u001b[0ma\u001b[0m\u001b[0;34m\u001b[0m\u001b[0;34m\u001b[0m\u001b[0m\n\u001b[0m",
      "\u001b[0;31mNameError\u001b[0m: name 'a' is not defined"
     ]
    }
   ],
   "source": [
    "a"
   ]
  },
  {
   "cell_type": "code",
   "execution_count": null,
   "metadata": {},
   "outputs": [],
   "source": [
    "import pickle\n",
    "\n",
    "file_name = f'{args.dataset}_AtkSE_modified_adj.pkl'\n",
    "\n",
    "# 从文件读取变量\n",
    "with open(file_name, 'rb') as f:\n",
    "    modified_adj = pickle.load(f)"
   ]
  }
 ],
 "metadata": {
  "kernelspec": {
   "display_name": "DeepRobust",
   "language": "python",
   "name": "python3"
  },
  "language_info": {
   "codemirror_mode": {
    "name": "ipython",
    "version": 3
   },
   "file_extension": ".py",
   "mimetype": "text/x-python",
   "name": "python",
   "nbconvert_exporter": "python",
   "pygments_lexer": "ipython3",
   "version": "3.7.12"
  }
 },
 "nbformat": 4,
 "nbformat_minor": 2
}
